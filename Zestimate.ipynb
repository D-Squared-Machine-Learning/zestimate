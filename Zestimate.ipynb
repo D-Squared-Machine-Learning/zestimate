{
 "cells": [
  {
   "cell_type": "code",
   "execution_count": 1,
   "metadata": {
    "collapsed": false
   },
   "outputs": [],
   "source": [
    "import pandas as pd\n",
    "import numpy as np\n",
    "import seaborn as sns\n",
    "import matplotlib.pyplot as plt\n",
    "\n"
   ]
  },
  {
   "cell_type": "code",
   "execution_count": 2,
   "metadata": {
    "collapsed": false
   },
   "outputs": [
    {
     "name": "stderr",
     "output_type": "stream",
     "text": [
      "/Users/deep/anaconda/lib/python3.6/site-packages/IPython/core/interactiveshell.py:2717: DtypeWarning: Columns (22,32,34,49,55) have mixed types. Specify dtype option on import or set low_memory=False.\n",
      "  interactivity=interactivity, compiler=compiler, result=result)\n"
     ]
    }
   ],
   "source": [
    "df_X = pd.read_csv('properties_2016.csv', index_col=0)\n",
    "df_y = pd.read_csv('train_2016_v2.csv')"
   ]
  },
  {
   "cell_type": "code",
   "execution_count": 3,
   "metadata": {
    "collapsed": false
   },
   "outputs": [
    {
     "data": {
      "text/html": [
       "<div>\n",
       "<table border=\"1\" class=\"dataframe\">\n",
       "  <thead>\n",
       "    <tr style=\"text-align: right;\">\n",
       "      <th></th>\n",
       "      <th>parcelid</th>\n",
       "      <th>logerror</th>\n",
       "      <th>transactiondate</th>\n",
       "      <th>airconditioningtypeid</th>\n",
       "      <th>architecturalstyletypeid</th>\n",
       "      <th>basementsqft</th>\n",
       "      <th>bathroomcnt</th>\n",
       "      <th>bedroomcnt</th>\n",
       "      <th>buildingclasstypeid</th>\n",
       "      <th>buildingqualitytypeid</th>\n",
       "      <th>...</th>\n",
       "      <th>numberofstories</th>\n",
       "      <th>fireplaceflag</th>\n",
       "      <th>structuretaxvaluedollarcnt</th>\n",
       "      <th>taxvaluedollarcnt</th>\n",
       "      <th>assessmentyear</th>\n",
       "      <th>landtaxvaluedollarcnt</th>\n",
       "      <th>taxamount</th>\n",
       "      <th>taxdelinquencyflag</th>\n",
       "      <th>taxdelinquencyyear</th>\n",
       "      <th>censustractandblock</th>\n",
       "    </tr>\n",
       "  </thead>\n",
       "  <tbody>\n",
       "    <tr>\n",
       "      <th>0</th>\n",
       "      <td>11016594</td>\n",
       "      <td>0.0276</td>\n",
       "      <td>2016-01-01</td>\n",
       "      <td>1.0</td>\n",
       "      <td>NaN</td>\n",
       "      <td>NaN</td>\n",
       "      <td>2.0</td>\n",
       "      <td>3.0</td>\n",
       "      <td>NaN</td>\n",
       "      <td>4.0</td>\n",
       "      <td>...</td>\n",
       "      <td>NaN</td>\n",
       "      <td>NaN</td>\n",
       "      <td>122754.0</td>\n",
       "      <td>360170.0</td>\n",
       "      <td>2015.0</td>\n",
       "      <td>237416.0</td>\n",
       "      <td>6735.88</td>\n",
       "      <td>NaN</td>\n",
       "      <td>NaN</td>\n",
       "      <td>6.037107e+13</td>\n",
       "    </tr>\n",
       "    <tr>\n",
       "      <th>1</th>\n",
       "      <td>14366692</td>\n",
       "      <td>-0.1684</td>\n",
       "      <td>2016-01-01</td>\n",
       "      <td>NaN</td>\n",
       "      <td>NaN</td>\n",
       "      <td>NaN</td>\n",
       "      <td>3.5</td>\n",
       "      <td>4.0</td>\n",
       "      <td>NaN</td>\n",
       "      <td>NaN</td>\n",
       "      <td>...</td>\n",
       "      <td>NaN</td>\n",
       "      <td>NaN</td>\n",
       "      <td>346458.0</td>\n",
       "      <td>585529.0</td>\n",
       "      <td>2015.0</td>\n",
       "      <td>239071.0</td>\n",
       "      <td>10153.02</td>\n",
       "      <td>NaN</td>\n",
       "      <td>NaN</td>\n",
       "      <td>NaN</td>\n",
       "    </tr>\n",
       "    <tr>\n",
       "      <th>2</th>\n",
       "      <td>12098116</td>\n",
       "      <td>-0.0040</td>\n",
       "      <td>2016-01-01</td>\n",
       "      <td>1.0</td>\n",
       "      <td>NaN</td>\n",
       "      <td>NaN</td>\n",
       "      <td>3.0</td>\n",
       "      <td>2.0</td>\n",
       "      <td>NaN</td>\n",
       "      <td>4.0</td>\n",
       "      <td>...</td>\n",
       "      <td>NaN</td>\n",
       "      <td>NaN</td>\n",
       "      <td>61994.0</td>\n",
       "      <td>119906.0</td>\n",
       "      <td>2015.0</td>\n",
       "      <td>57912.0</td>\n",
       "      <td>11484.48</td>\n",
       "      <td>NaN</td>\n",
       "      <td>NaN</td>\n",
       "      <td>6.037464e+13</td>\n",
       "    </tr>\n",
       "    <tr>\n",
       "      <th>3</th>\n",
       "      <td>12643413</td>\n",
       "      <td>0.0218</td>\n",
       "      <td>2016-01-02</td>\n",
       "      <td>1.0</td>\n",
       "      <td>NaN</td>\n",
       "      <td>NaN</td>\n",
       "      <td>2.0</td>\n",
       "      <td>2.0</td>\n",
       "      <td>NaN</td>\n",
       "      <td>4.0</td>\n",
       "      <td>...</td>\n",
       "      <td>NaN</td>\n",
       "      <td>NaN</td>\n",
       "      <td>171518.0</td>\n",
       "      <td>244880.0</td>\n",
       "      <td>2015.0</td>\n",
       "      <td>73362.0</td>\n",
       "      <td>3048.74</td>\n",
       "      <td>NaN</td>\n",
       "      <td>NaN</td>\n",
       "      <td>6.037296e+13</td>\n",
       "    </tr>\n",
       "    <tr>\n",
       "      <th>4</th>\n",
       "      <td>14432541</td>\n",
       "      <td>-0.0050</td>\n",
       "      <td>2016-01-02</td>\n",
       "      <td>NaN</td>\n",
       "      <td>NaN</td>\n",
       "      <td>NaN</td>\n",
       "      <td>2.5</td>\n",
       "      <td>4.0</td>\n",
       "      <td>NaN</td>\n",
       "      <td>NaN</td>\n",
       "      <td>...</td>\n",
       "      <td>2.0</td>\n",
       "      <td>NaN</td>\n",
       "      <td>169574.0</td>\n",
       "      <td>434551.0</td>\n",
       "      <td>2015.0</td>\n",
       "      <td>264977.0</td>\n",
       "      <td>5488.96</td>\n",
       "      <td>NaN</td>\n",
       "      <td>NaN</td>\n",
       "      <td>6.059042e+13</td>\n",
       "    </tr>\n",
       "  </tbody>\n",
       "</table>\n",
       "<p>5 rows × 60 columns</p>\n",
       "</div>"
      ],
      "text/plain": [
       "   parcelid  logerror transactiondate  airconditioningtypeid  \\\n",
       "0  11016594    0.0276      2016-01-01                    1.0   \n",
       "1  14366692   -0.1684      2016-01-01                    NaN   \n",
       "2  12098116   -0.0040      2016-01-01                    1.0   \n",
       "3  12643413    0.0218      2016-01-02                    1.0   \n",
       "4  14432541   -0.0050      2016-01-02                    NaN   \n",
       "\n",
       "   architecturalstyletypeid  basementsqft  bathroomcnt  bedroomcnt  \\\n",
       "0                       NaN           NaN          2.0         3.0   \n",
       "1                       NaN           NaN          3.5         4.0   \n",
       "2                       NaN           NaN          3.0         2.0   \n",
       "3                       NaN           NaN          2.0         2.0   \n",
       "4                       NaN           NaN          2.5         4.0   \n",
       "\n",
       "   buildingclasstypeid  buildingqualitytypeid         ...           \\\n",
       "0                  NaN                    4.0         ...            \n",
       "1                  NaN                    NaN         ...            \n",
       "2                  NaN                    4.0         ...            \n",
       "3                  NaN                    4.0         ...            \n",
       "4                  NaN                    NaN         ...            \n",
       "\n",
       "   numberofstories  fireplaceflag  structuretaxvaluedollarcnt  \\\n",
       "0              NaN            NaN                    122754.0   \n",
       "1              NaN            NaN                    346458.0   \n",
       "2              NaN            NaN                     61994.0   \n",
       "3              NaN            NaN                    171518.0   \n",
       "4              2.0            NaN                    169574.0   \n",
       "\n",
       "   taxvaluedollarcnt  assessmentyear  landtaxvaluedollarcnt  taxamount  \\\n",
       "0           360170.0          2015.0               237416.0    6735.88   \n",
       "1           585529.0          2015.0               239071.0   10153.02   \n",
       "2           119906.0          2015.0                57912.0   11484.48   \n",
       "3           244880.0          2015.0                73362.0    3048.74   \n",
       "4           434551.0          2015.0               264977.0    5488.96   \n",
       "\n",
       "   taxdelinquencyflag  taxdelinquencyyear  censustractandblock  \n",
       "0                 NaN                 NaN         6.037107e+13  \n",
       "1                 NaN                 NaN                  NaN  \n",
       "2                 NaN                 NaN         6.037464e+13  \n",
       "3                 NaN                 NaN         6.037296e+13  \n",
       "4                 NaN                 NaN         6.059042e+13  \n",
       "\n",
       "[5 rows x 60 columns]"
      ]
     },
     "execution_count": 3,
     "metadata": {},
     "output_type": "execute_result"
    }
   ],
   "source": [
    "zillow_df = df_y.join(df_X, on='parcelid',how='inner',lsuffix='copy')\n",
    "zillow_df.head()\n",
    "\n"
   ]
  },
  {
   "cell_type": "code",
   "execution_count": 4,
   "metadata": {
    "collapsed": false
   },
   "outputs": [
    {
     "name": "stdout",
     "output_type": "stream",
     "text": [
      "   parcelid  logerror  airconditioningtypeid  bathroomcnt  bedroomcnt  \\\n",
      "0  11016594    0.0276                    1.0          2.0         3.0   \n",
      "1  14366692   -0.1684                    NaN          3.5         4.0   \n",
      "2  12098116   -0.0040                    1.0          3.0         2.0   \n",
      "3  12643413    0.0218                    1.0          2.0         2.0   \n",
      "4  14432541   -0.0050                    NaN          2.5         4.0   \n",
      "\n",
      "   buildingqualitytypeid  calculatedbathnbr  calculatedfinishedsquarefeet  \\\n",
      "0                    4.0                2.0                        1684.0   \n",
      "1                    NaN                3.5                        2263.0   \n",
      "2                    4.0                3.0                        2217.0   \n",
      "3                    4.0                2.0                         839.0   \n",
      "4                    NaN                2.5                        2283.0   \n",
      "\n",
      "   fireplacecnt  fullbathcnt  garagecarcnt  garagetotalsqft hashottuborspa  \\\n",
      "0           NaN          2.0           NaN              NaN            NaN   \n",
      "1           NaN          3.0           2.0            468.0            NaN   \n",
      "2           NaN          3.0           NaN              NaN            NaN   \n",
      "3           NaN          2.0           NaN              NaN            NaN   \n",
      "4           NaN          2.0           2.0            598.0            NaN   \n",
      "\n",
      "   heatingorsystemtypeid    latitude  \n",
      "0                    2.0  34280990.0  \n",
      "1                    NaN  33668120.0  \n",
      "2                    2.0  34136312.0  \n",
      "3                    2.0  33755800.0  \n",
      "4                    NaN  33485643.0  \n"
     ]
    },
    {
     "data": {
      "text/html": [
       "<div>\n",
       "<table border=\"1\" class=\"dataframe\">\n",
       "  <thead>\n",
       "    <tr style=\"text-align: right;\">\n",
       "      <th></th>\n",
       "      <th>longitude</th>\n",
       "      <th>lotsizesquarefeet</th>\n",
       "      <th>poolcnt</th>\n",
       "      <th>poolsizesum</th>\n",
       "      <th>propertylandusetypeid</th>\n",
       "      <th>rawcensustractandblock</th>\n",
       "      <th>regionidcity</th>\n",
       "      <th>regionidcounty</th>\n",
       "      <th>regionidneighborhood</th>\n",
       "      <th>regionidzip</th>\n",
       "      <th>...</th>\n",
       "      <th>yardbuildingsqft26</th>\n",
       "      <th>yearbuilt</th>\n",
       "      <th>numberofstories</th>\n",
       "      <th>fireplaceflag</th>\n",
       "      <th>structuretaxvaluedollarcnt</th>\n",
       "      <th>taxvaluedollarcnt</th>\n",
       "      <th>assessmentyear</th>\n",
       "      <th>landtaxvaluedollarcnt</th>\n",
       "      <th>taxamount</th>\n",
       "      <th>taxdelinquencyflag</th>\n",
       "    </tr>\n",
       "  </thead>\n",
       "  <tbody>\n",
       "    <tr>\n",
       "      <th>0</th>\n",
       "      <td>-118488536.0</td>\n",
       "      <td>7528.0</td>\n",
       "      <td>NaN</td>\n",
       "      <td>NaN</td>\n",
       "      <td>261.0</td>\n",
       "      <td>6.037107e+07</td>\n",
       "      <td>12447.0</td>\n",
       "      <td>3101.0</td>\n",
       "      <td>31817.0</td>\n",
       "      <td>96370.0</td>\n",
       "      <td>...</td>\n",
       "      <td>NaN</td>\n",
       "      <td>1959.0</td>\n",
       "      <td>NaN</td>\n",
       "      <td>NaN</td>\n",
       "      <td>122754.0</td>\n",
       "      <td>360170.0</td>\n",
       "      <td>2015.0</td>\n",
       "      <td>237416.0</td>\n",
       "      <td>6735.88</td>\n",
       "      <td>NaN</td>\n",
       "    </tr>\n",
       "    <tr>\n",
       "      <th>1</th>\n",
       "      <td>-117677556.0</td>\n",
       "      <td>3643.0</td>\n",
       "      <td>NaN</td>\n",
       "      <td>NaN</td>\n",
       "      <td>261.0</td>\n",
       "      <td>6.059052e+07</td>\n",
       "      <td>32380.0</td>\n",
       "      <td>1286.0</td>\n",
       "      <td>NaN</td>\n",
       "      <td>96962.0</td>\n",
       "      <td>...</td>\n",
       "      <td>NaN</td>\n",
       "      <td>2014.0</td>\n",
       "      <td>NaN</td>\n",
       "      <td>NaN</td>\n",
       "      <td>346458.0</td>\n",
       "      <td>585529.0</td>\n",
       "      <td>2015.0</td>\n",
       "      <td>239071.0</td>\n",
       "      <td>10153.02</td>\n",
       "      <td>NaN</td>\n",
       "    </tr>\n",
       "    <tr>\n",
       "      <th>2</th>\n",
       "      <td>-118175032.0</td>\n",
       "      <td>11423.0</td>\n",
       "      <td>NaN</td>\n",
       "      <td>NaN</td>\n",
       "      <td>261.0</td>\n",
       "      <td>6.037464e+07</td>\n",
       "      <td>47019.0</td>\n",
       "      <td>3101.0</td>\n",
       "      <td>275411.0</td>\n",
       "      <td>96293.0</td>\n",
       "      <td>...</td>\n",
       "      <td>NaN</td>\n",
       "      <td>1940.0</td>\n",
       "      <td>NaN</td>\n",
       "      <td>NaN</td>\n",
       "      <td>61994.0</td>\n",
       "      <td>119906.0</td>\n",
       "      <td>2015.0</td>\n",
       "      <td>57912.0</td>\n",
       "      <td>11484.48</td>\n",
       "      <td>NaN</td>\n",
       "    </tr>\n",
       "    <tr>\n",
       "      <th>3</th>\n",
       "      <td>-118309000.0</td>\n",
       "      <td>70859.0</td>\n",
       "      <td>NaN</td>\n",
       "      <td>NaN</td>\n",
       "      <td>266.0</td>\n",
       "      <td>6.037296e+07</td>\n",
       "      <td>12447.0</td>\n",
       "      <td>3101.0</td>\n",
       "      <td>54300.0</td>\n",
       "      <td>96222.0</td>\n",
       "      <td>...</td>\n",
       "      <td>NaN</td>\n",
       "      <td>1987.0</td>\n",
       "      <td>NaN</td>\n",
       "      <td>NaN</td>\n",
       "      <td>171518.0</td>\n",
       "      <td>244880.0</td>\n",
       "      <td>2015.0</td>\n",
       "      <td>73362.0</td>\n",
       "      <td>3048.74</td>\n",
       "      <td>NaN</td>\n",
       "    </tr>\n",
       "    <tr>\n",
       "      <th>4</th>\n",
       "      <td>-117700234.0</td>\n",
       "      <td>6000.0</td>\n",
       "      <td>1.0</td>\n",
       "      <td>NaN</td>\n",
       "      <td>261.0</td>\n",
       "      <td>6.059042e+07</td>\n",
       "      <td>17686.0</td>\n",
       "      <td>1286.0</td>\n",
       "      <td>NaN</td>\n",
       "      <td>96961.0</td>\n",
       "      <td>...</td>\n",
       "      <td>NaN</td>\n",
       "      <td>1981.0</td>\n",
       "      <td>2.0</td>\n",
       "      <td>NaN</td>\n",
       "      <td>169574.0</td>\n",
       "      <td>434551.0</td>\n",
       "      <td>2015.0</td>\n",
       "      <td>264977.0</td>\n",
       "      <td>5488.96</td>\n",
       "      <td>NaN</td>\n",
       "    </tr>\n",
       "  </tbody>\n",
       "</table>\n",
       "<p>5 rows × 24 columns</p>\n",
       "</div>"
      ],
      "text/plain": [
       "     longitude  lotsizesquarefeet  poolcnt  poolsizesum  \\\n",
       "0 -118488536.0             7528.0      NaN          NaN   \n",
       "1 -117677556.0             3643.0      NaN          NaN   \n",
       "2 -118175032.0            11423.0      NaN          NaN   \n",
       "3 -118309000.0            70859.0      NaN          NaN   \n",
       "4 -117700234.0             6000.0      1.0          NaN   \n",
       "\n",
       "   propertylandusetypeid  rawcensustractandblock  regionidcity  \\\n",
       "0                  261.0            6.037107e+07       12447.0   \n",
       "1                  261.0            6.059052e+07       32380.0   \n",
       "2                  261.0            6.037464e+07       47019.0   \n",
       "3                  266.0            6.037296e+07       12447.0   \n",
       "4                  261.0            6.059042e+07       17686.0   \n",
       "\n",
       "   regionidcounty  regionidneighborhood  regionidzip         ...          \\\n",
       "0          3101.0               31817.0      96370.0         ...           \n",
       "1          1286.0                   NaN      96962.0         ...           \n",
       "2          3101.0              275411.0      96293.0         ...           \n",
       "3          3101.0               54300.0      96222.0         ...           \n",
       "4          1286.0                   NaN      96961.0         ...           \n",
       "\n",
       "   yardbuildingsqft26  yearbuilt  numberofstories  fireplaceflag  \\\n",
       "0                 NaN     1959.0              NaN            NaN   \n",
       "1                 NaN     2014.0              NaN            NaN   \n",
       "2                 NaN     1940.0              NaN            NaN   \n",
       "3                 NaN     1987.0              NaN            NaN   \n",
       "4                 NaN     1981.0              2.0            NaN   \n",
       "\n",
       "   structuretaxvaluedollarcnt  taxvaluedollarcnt  assessmentyear  \\\n",
       "0                    122754.0           360170.0          2015.0   \n",
       "1                    346458.0           585529.0          2015.0   \n",
       "2                     61994.0           119906.0          2015.0   \n",
       "3                    171518.0           244880.0          2015.0   \n",
       "4                    169574.0           434551.0          2015.0   \n",
       "\n",
       "  landtaxvaluedollarcnt  taxamount  taxdelinquencyflag  \n",
       "0              237416.0    6735.88                 NaN  \n",
       "1              239071.0   10153.02                 NaN  \n",
       "2               57912.0   11484.48                 NaN  \n",
       "3               73362.0    3048.74                 NaN  \n",
       "4              264977.0    5488.96                 NaN  \n",
       "\n",
       "[5 rows x 24 columns]"
      ]
     },
     "execution_count": 4,
     "metadata": {},
     "output_type": "execute_result"
    }
   ],
   "source": [
    "# sns.heatmap(zillow_df.corr())\n",
    "# plt.show()\n",
    "\n",
    "# plt.hist(zillow_df.logerror.values, bins=100, range=(-1,1))\n",
    "# plt.show()\n",
    "\n",
    "#zillow_df.info()\n",
    "dropped_cols = ['architecturalstyletypeid', \n",
    "                'basementsqft', \n",
    "                'buildingclasstypeid',\n",
    "                'decktypeid',\n",
    "                'finishedfloor1squarefeet',\n",
    "                'finishedsquarefeet6',\n",
    "                'finishedsquarefeet12',\n",
    "                'finishedsquarefeet13',\n",
    "                'finishedsquarefeet15',\n",
    "                'finishedsquarefeet50',\n",
    "                'fips',\n",
    "                'pooltypeid10',\n",
    "                'pooltypeid2',\n",
    "                'pooltypeid7',\n",
    "                'storytypeid',\n",
    "                'typeconstructiontypeid',\n",
    "                'propertyzoningdesc',\n",
    "                'taxdelinquencyyear',\n",
    "                'censustractandblock',\n",
    "                'propertycountylandusecode',\n",
    "                'transactiondate'\n",
    "               ]\n",
    "\n",
    "zillow = zillow_df.drop(dropped_cols, axis=1)\n",
    "print(zillow.iloc[:,0:15].head())\n",
    "zillow.iloc[:,15:].head()\n"
   ]
  },
  {
   "cell_type": "code",
   "execution_count": 5,
   "metadata": {
    "collapsed": false
   },
   "outputs": [
    {
     "name": "stdout",
     "output_type": "stream",
     "text": [
      "<class 'pandas.core.frame.DataFrame'>\n",
      "Int64Index: 90275 entries, 0 to 90274\n",
      "Data columns (total 39 columns):\n",
      "parcelid                        90275 non-null int64\n",
      "logerror                        90275 non-null float64\n",
      "airconditioningtypeid           90275 non-null float64\n",
      "bathroomcnt                     90275 non-null float64\n",
      "bedroomcnt                      90275 non-null float64\n",
      "buildingqualitytypeid           90275 non-null float64\n",
      "calculatedbathnbr               90275 non-null float64\n",
      "calculatedfinishedsquarefeet    90275 non-null float64\n",
      "fireplacecnt                    90275 non-null float64\n",
      "fullbathcnt                     90275 non-null float64\n",
      "garagecarcnt                    90275 non-null float64\n",
      "garagetotalsqft                 90275 non-null float64\n",
      "hashottuborspa                  90275 non-null float64\n",
      "heatingorsystemtypeid           90275 non-null float64\n",
      "latitude                        90275 non-null float64\n",
      "longitude                       90275 non-null float64\n",
      "lotsizesquarefeet               90275 non-null float64\n",
      "poolcnt                         90275 non-null float64\n",
      "poolsizesum                     90275 non-null float64\n",
      "propertylandusetypeid           90275 non-null float64\n",
      "rawcensustractandblock          90275 non-null float64\n",
      "regionidcity                    90275 non-null float64\n",
      "regionidcounty                  90275 non-null float64\n",
      "regionidneighborhood            90275 non-null float64\n",
      "regionidzip                     90275 non-null float64\n",
      "roomcnt                         90275 non-null float64\n",
      "threequarterbathnbr             90275 non-null float64\n",
      "unitcnt                         90275 non-null float64\n",
      "yardbuildingsqft17              90275 non-null float64\n",
      "yardbuildingsqft26              90275 non-null float64\n",
      "yearbuilt                       90275 non-null float64\n",
      "numberofstories                 90275 non-null float64\n",
      "fireplaceflag                   90275 non-null float64\n",
      "structuretaxvaluedollarcnt      90275 non-null float64\n",
      "taxvaluedollarcnt               90275 non-null float64\n",
      "assessmentyear                  90275 non-null float64\n",
      "landtaxvaluedollarcnt           90275 non-null float64\n",
      "taxamount                       90275 non-null float64\n",
      "taxdelinquencyflag              90275 non-null float64\n",
      "dtypes: float64(38), int64(1)\n",
      "memory usage: 27.5 MB\n"
     ]
    }
   ],
   "source": [
    "zillow.hashottuborspa.unique() #nan -> 0, True -> 1\n",
    "zillow.fireplaceflag.unique() #nan -> 0, True -> 1\n",
    "zillow.taxdelinquencyflag.unique() #nan -> 0, 'Y' -> 1\n",
    "\n",
    "zill = zillow.fillna(value=0)\n",
    "zill.loc[:,'hashottuborspa'] = zill.loc[:,'hashottuborspa'].apply(lambda x: 1.0 if x == True else float(x))\n",
    "zill.loc[:,'fireplaceflag'] = zill.loc[:,'fireplaceflag'].apply(lambda x: 1.0 if x == True else float(x))\n",
    "zill.loc[:,'taxdelinquencyflag'] = zill.loc[:,'taxdelinquencyflag'].apply(lambda x: 1.0 if x == 'Y' else float(x))\n",
    "zill.head()\n",
    "zill.info()\n",
    "\n",
    "\n"
   ]
  },
  {
   "cell_type": "code",
   "execution_count": 6,
   "metadata": {
    "collapsed": false
   },
   "outputs": [
    {
     "data": {
      "text/plain": [
       "'TO DO\\nGet dummies on all classified data\\nDo some visualizations\\n1)Grid search on linear regression\\n2)Grid search on random forest\\n3)SVR\\n4)Adaboost\\n5)Dense nueral network - try dif hyperparams\\n'"
      ]
     },
     "execution_count": 6,
     "metadata": {},
     "output_type": "execute_result"
    }
   ],
   "source": [
    "'''TO DO\n",
    "Get dummies on all classified data\n",
    "Do some visualizations\n",
    "1)Grid search on linear regression\n",
    "2)Grid search on random forest\n",
    "3)SVR\n",
    "4)Adaboost\n",
    "5)Dense nueral network - try dif hyperparams\n",
    "'''"
   ]
  },
  {
   "cell_type": "code",
   "execution_count": 7,
   "metadata": {
    "collapsed": true
   },
   "outputs": [],
   "source": [
    "#can do clustering on latitude/longitude\n",
    "#and can do clustering on regionidcity, regionidcounty, regionidneighborhood, and regionidzip\n"
   ]
  },
  {
   "cell_type": "code",
   "execution_count": 8,
   "metadata": {
    "collapsed": false
   },
   "outputs": [
    {
     "name": "stdout",
     "output_type": "stream",
     "text": [
      "     latitude    longitude  rawcensustractandblock  regionidcity  \\\n",
      "0  34280990.0 -118488536.0            6.037107e+07       12447.0   \n",
      "1  33668120.0 -117677556.0            6.059052e+07       32380.0   \n",
      "2  34136312.0 -118175032.0            6.037464e+07       47019.0   \n",
      "3  33755800.0 -118309000.0            6.037296e+07       12447.0   \n",
      "4  33485643.0 -117700234.0            6.059042e+07       17686.0   \n",
      "\n",
      "   regionidcounty  regionidneighborhood  regionidzip  \n",
      "0          3101.0               31817.0      96370.0  \n",
      "1          1286.0                   0.0      96962.0  \n",
      "2          3101.0              275411.0      96293.0  \n",
      "3          3101.0               54300.0      96222.0  \n",
      "4          1286.0                   0.0      96961.0  \n"
     ]
    },
    {
     "data": {
      "text/plain": [
       "array([18,  8, 21, ..., 20, 14,  1], dtype=int32)"
      ]
     },
     "execution_count": 8,
     "metadata": {},
     "output_type": "execute_result"
    }
   ],
   "source": [
    "#can do clustering on latitude/longitude\n",
    "#and can do clustering on regionidcity, regionidcounty, regionidneighborhood, and regionidzip, censustractandblock\n",
    "from sklearn.cluster import KMeans\n",
    "\n",
    "col_names = zill.columns.values\n",
    "col_names_with_index = [(index, col_names[index]) for index in range(len(col_names))]\n",
    "#14, 15, 20:25 is what we want\n",
    "\n",
    "zill.X = zill.iloc[:,[14,15,20,21,22,23,24]]\n",
    "print(zill.X.head())\n",
    "\n",
    "#i think even more clusters would be better, just takes a little while on labtop\n",
    "kmeans = KMeans(n_clusters=25, max_iter=300, random_state=42)\n",
    "X = zill.X.values\n",
    "kmeans.fit(X)\n",
    "labels = kmeans.labels_\n",
    "labels\n",
    "#attach back as feature to the zill df"
   ]
  },
  {
   "cell_type": "code",
   "execution_count": 9,
   "metadata": {
    "collapsed": false
   },
   "outputs": [
    {
     "data": {
      "image/png": "[encoded data removed]",
      "text/plain": [
       "<matplotlib.figure.Figure at 0x12c566b38>"
      ]
     },
     "metadata": {},
     "output_type": "display_data"
    }
   ],
   "source": [
    "plt.scatter(X[:,0], X[:,1], c=labels, cmap=plt.cm.Paired)\n",
    "plt.show()"
   ]
  },
  {
   "cell_type": "code",
   "execution_count": 11,
   "metadata": {
    "collapsed": false
   },
   "outputs": [
    {
     "name": "stdout",
     "output_type": "stream",
     "text": [
      "<class 'pandas.core.frame.DataFrame'>\n",
      "Int64Index: 90275 entries, 0 to 90274\n",
      "Data columns (total 90 columns):\n",
      "logerror                        90275 non-null float64\n",
      "bathroomcnt                     90275 non-null float64\n",
      "bedroomcnt                      90275 non-null float64\n",
      "calculatedbathnbr               90275 non-null float64\n",
      "calculatedfinishedsquarefeet    90275 non-null float64\n",
      "fireplacecnt                    90275 non-null float64\n",
      "fullbathcnt                     90275 non-null float64\n",
      "garagecarcnt                    90275 non-null float64\n",
      "garagetotalsqft                 90275 non-null float64\n",
      "lotsizesquarefeet               90275 non-null float64\n",
      "poolcnt                         90275 non-null float64\n",
      "poolsizesum                     90275 non-null float64\n",
      "roomcnt                         90275 non-null float64\n",
      "threequarterbathnbr             90275 non-null float64\n",
      "unitcnt                         90275 non-null float64\n",
      "yardbuildingsqft17              90275 non-null float64\n",
      "yardbuildingsqft26              90275 non-null float64\n",
      "yearbuilt                       90275 non-null float64\n",
      "numberofstories                 90275 non-null float64\n",
      "structuretaxvaluedollarcnt      90275 non-null float64\n",
      "taxvaluedollarcnt               90275 non-null float64\n",
      "assessmentyear                  90275 non-null float64\n",
      "landtaxvaluedollarcnt           90275 non-null float64\n",
      "taxamount                       90275 non-null float64\n",
      "location_1                      90275 non-null uint8\n",
      "location_2                      90275 non-null uint8\n",
      "location_3                      90275 non-null uint8\n",
      "location_4                      90275 non-null uint8\n",
      "location_5                      90275 non-null uint8\n",
      "location_6                      90275 non-null uint8\n",
      "location_7                      90275 non-null uint8\n",
      "location_8                      90275 non-null uint8\n",
      "location_9                      90275 non-null uint8\n",
      "location_10                     90275 non-null uint8\n",
      "location_11                     90275 non-null uint8\n",
      "location_12                     90275 non-null uint8\n",
      "location_13                     90275 non-null uint8\n",
      "location_14                     90275 non-null uint8\n",
      "location_15                     90275 non-null uint8\n",
      "location_16                     90275 non-null uint8\n",
      "location_17                     90275 non-null uint8\n",
      "location_18                     90275 non-null uint8\n",
      "location_19                     90275 non-null uint8\n",
      "location_20                     90275 non-null uint8\n",
      "location_21                     90275 non-null uint8\n",
      "location_22                     90275 non-null uint8\n",
      "location_23                     90275 non-null uint8\n",
      "location_24                     90275 non-null uint8\n",
      "airconditioningtypeid_1.0       90275 non-null uint8\n",
      "airconditioningtypeid_3.0       90275 non-null uint8\n",
      "airconditioningtypeid_5.0       90275 non-null uint8\n",
      "airconditioningtypeid_9.0       90275 non-null uint8\n",
      "airconditioningtypeid_11.0      90275 non-null uint8\n",
      "airconditioningtypeid_13.0      90275 non-null uint8\n",
      "buildingqualitytypeid_1.0       90275 non-null uint8\n",
      "buildingqualitytypeid_4.0       90275 non-null uint8\n",
      "buildingqualitytypeid_6.0       90275 non-null uint8\n",
      "buildingqualitytypeid_7.0       90275 non-null uint8\n",
      "buildingqualitytypeid_8.0       90275 non-null uint8\n",
      "buildingqualitytypeid_10.0      90275 non-null uint8\n",
      "buildingqualitytypeid_11.0      90275 non-null uint8\n",
      "buildingqualitytypeid_12.0      90275 non-null uint8\n",
      "heatingorsystemtypeid_1.0       90275 non-null uint8\n",
      "heatingorsystemtypeid_2.0       90275 non-null uint8\n",
      "heatingorsystemtypeid_6.0       90275 non-null uint8\n",
      "heatingorsystemtypeid_7.0       90275 non-null uint8\n",
      "heatingorsystemtypeid_10.0      90275 non-null uint8\n",
      "heatingorsystemtypeid_11.0      90275 non-null uint8\n",
      "heatingorsystemtypeid_12.0      90275 non-null uint8\n",
      "heatingorsystemtypeid_13.0      90275 non-null uint8\n",
      "heatingorsystemtypeid_14.0      90275 non-null uint8\n",
      "heatingorsystemtypeid_18.0      90275 non-null uint8\n",
      "heatingorsystemtypeid_20.0      90275 non-null uint8\n",
      "heatingorsystemtypeid_24.0      90275 non-null uint8\n",
      "propertylandusetypeid_47.0      90275 non-null uint8\n",
      "propertylandusetypeid_246.0     90275 non-null uint8\n",
      "propertylandusetypeid_247.0     90275 non-null uint8\n",
      "propertylandusetypeid_248.0     90275 non-null uint8\n",
      "propertylandusetypeid_260.0     90275 non-null uint8\n",
      "propertylandusetypeid_261.0     90275 non-null uint8\n",
      "propertylandusetypeid_263.0     90275 non-null uint8\n",
      "propertylandusetypeid_264.0     90275 non-null uint8\n",
      "propertylandusetypeid_265.0     90275 non-null uint8\n",
      "propertylandusetypeid_266.0     90275 non-null uint8\n",
      "propertylandusetypeid_267.0     90275 non-null uint8\n",
      "propertylandusetypeid_269.0     90275 non-null uint8\n",
      "propertylandusetypeid_275.0     90275 non-null uint8\n",
      "fireplaceflag_1.0               90275 non-null uint8\n",
      "taxdelinquencyflag_1.0          90275 non-null uint8\n",
      "hashottuborspa_1.0              90275 non-null uint8\n",
      "dtypes: float64(24), uint8(66)\n",
      "memory usage: 22.9 MB\n"
     ]
    }
   ],
   "source": [
    "zill['location'] = pd.Series(labels)\n",
    "zill_drop = zill.drop(['regionidcounty', 'regionidneighborhood', 'regionidzip', \n",
    "                  'latitude', 'longitude', 'rawcensustractandblock', \n",
    "                  'regionidcity', 'parcelid'], axis=1)\n",
    "zill_dummy = pd.get_dummies(zill_drop, columns=['location','airconditioningtypeid',\n",
    "                              'buildingqualitytypeid','heatingorsystemtypeid', \n",
    "                              'propertylandusetypeid', 'fireplaceflag', 'taxdelinquencyflag',\n",
    "                             'hashottuborspa'], drop_first=True)\n",
    "zill_dummy.info()"
   ]
  },
  {
   "cell_type": "code",
   "execution_count": 14,
   "metadata": {
    "collapsed": true
   },
   "outputs": [],
   "source": [
    "from sklearn.preprocessing import StandardScaler, PolynomialFeatures\n",
    "from sklearn.model_selection import train_test_split, GridSearchCV\n",
    "from sklearn.decomposition import PCA\n",
    "from sklearn.pipeline import Pipeline\n",
    "from sklearn.linear_model import LinearRegression\n",
    "\n",
    "X = zill_dummy.iloc[:,1:].values\n",
    "y = zill_dummy.iloc[:,0].values\n",
    "X_train, X_test, y_train, y_test = train_test_split(X, y, random_state=42, test_size = 0.33)\n"
   ]
  },
  {
   "cell_type": "raw",
   "metadata": {},
   "source": []
  },
  {
   "cell_type": "code",
   "execution_count": 39,
   "metadata": {
    "collapsed": true
   },
   "outputs": [],
   "source": [
    "zill_dummy.to_csv('clean_data.csv')"
   ]
  },
  {
   "cell_type": "code",
   "execution_count": 22,
   "metadata": {
    "collapsed": false
   },
   "outputs": [
    {
     "data": {
      "text/plain": [
       "Pipeline(steps=[('standardscaler', StandardScaler(copy=True, with_mean=True, with_std=True)), ('polynomialfeatures', PolynomialFeatures(degree=2, include_bias=True, interaction_only=False)), ('pca', PCA(copy=True, iterated_power='auto', n_components=2, random_state=None,\n",
       "  svd_solver='auto', tol=0.0, whiten=False)), ('linearregression', LinearRegression(copy_X=True, fit_intercept=True, n_jobs=1, normalize=False))])"
      ]
     },
     "execution_count": 22,
     "metadata": {},
     "output_type": "execute_result"
    }
   ],
   "source": [
    "pipeline = Pipeline([('standardscaler', StandardScaler()), \n",
    "                     ('polynomialfeatures', PolynomialFeatures(2)),\n",
    "                     ('pca', PCA(n_components=2)),\n",
    "                     ('linearregression', LinearRegression())\n",
    "                    ])\n",
    "# grid = GridSearchCV(pipeline, \n",
    "#                     {'polynomialfeatures__degree': [1,2], \n",
    "#                      #'pca__whiten': [False, True],\n",
    "#                      #'pca__n_components': [60,None]\n",
    "#                     }, n_jobs = -1, verbose = 3)\n",
    "#grid.fit(X_train, y_train)\n",
    "pipeline.fit(X_train, y_train)"
   ]
  },
  {
   "cell_type": "markdown",
   "metadata": {},
   "source": [
    "score = pipeline.score(X_test, y_test)\n",
    "score\n"
   ]
  },
  {
   "cell_type": "code",
   "execution_count": 35,
   "metadata": {
    "collapsed": false
   },
   "outputs": [
    {
     "data": {
      "text/plain": [
       "Pipeline(steps=[('scaler', MinMaxScaler(copy=True, feature_range=(0, 1))), ('randomforest', RandomForestRegressor(bootstrap=True, criterion='mse', max_depth=None,\n",
       "           max_features='auto', max_leaf_nodes=None,\n",
       "           min_impurity_split=1e-07, min_samples_leaf=1,\n",
       "           min_samples_split=2, min_weight_fraction_leaf=0.0,\n",
       "           n_estimators=10, n_jobs=1, oob_score=False, random_state=None,\n",
       "           verbose=0, warm_start=False))])"
      ]
     },
     "execution_count": 35,
     "metadata": {},
     "output_type": "execute_result"
    }
   ],
   "source": [
    "from sklearn.preprocessing import MinMaxScaler\n",
    "from sklearn.ensemble import RandomForestRegressor\n",
    "pipeline = Pipeline([\n",
    "    ('scaler', MinMaxScaler()),\n",
    "#     ('pca', PCA(n_components=50)),\n",
    "    ('randomforest', RandomForestRegressor())\n",
    "])\n",
    "\n",
    "pipeline.fit(X_train, y_train)\n"
   ]
  },
  {
   "cell_type": "raw",
   "metadata": {},
   "source": []
  },
  {
   "cell_type": "code",
   "execution_count": 36,
   "metadata": {
    "collapsed": false
   },
   "outputs": [
    {
     "data": {
      "text/plain": [
       "-0.10433321895536518"
      ]
     },
     "execution_count": 36,
     "metadata": {},
     "output_type": "execute_result"
    }
   ],
   "source": [
    "score = pipeline.score(X_test, y_test)\n",
    "score"
   ]
  },
  {
   "cell_type": "code",
   "execution_count": 37,
   "metadata": {
    "collapsed": false
   },
   "outputs": [
    {
     "data": {
      "text/plain": [
       "Pipeline(steps=[('scaler', StandardScaler(copy=True, with_mean=True, with_std=True)), ('svr', SVR(C=1.0, cache_size=200, coef0=0.0, degree=3, epsilon=0.1, gamma='auto',\n",
       "  kernel='rbf', max_iter=-1, shrinking=True, tol=0.001, verbose=False))])"
      ]
     },
     "execution_count": 37,
     "metadata": {},
     "output_type": "execute_result"
    }
   ],
   "source": [
    "from sklearn.svm import SVR\n",
    "\n",
    "pipeline = Pipeline([\n",
    "    ('scaler', StandardScaler()),\n",
    "    ('svr', SVR())\n",
    "])\n",
    "\n",
    "\n",
    "\n",
    "pipeline.fit(X_train, y_train)"
   ]
  },
  {
   "cell_type": "code",
   "execution_count": 38,
   "metadata": {
    "collapsed": false
   },
   "outputs": [
    {
     "data": {
      "text/plain": [
       "-0.015446359263263432"
      ]
     },
     "execution_count": 38,
     "metadata": {},
     "output_type": "execute_result"
    }
   ],
   "source": [
    "score = pipeline.score(X_test, y_test)\n",
    "score"
   ]
  },
  {
   "cell_type": "code",
   "execution_count": null,
   "metadata": {
    "collapsed": true
   },
   "outputs": [],
   "source": []
  }
 ],
 "metadata": {
  "kernelspec": {
   "display_name": "Python 3",
   "language": "python",
   "name": "python3"
  },
  "language_info": {
   "codemirror_mode": {
    "name": "ipython",
    "version": 3
   },
   "file_extension": ".py",
   "mimetype": "text/x-python",
   "name": "python",
   "nbconvert_exporter": "python",
   "pygments_lexer": "ipython3",
   "version": "3.6.0"
  }
 },
 "nbformat": 4,
 "nbformat_minor": 2
}
